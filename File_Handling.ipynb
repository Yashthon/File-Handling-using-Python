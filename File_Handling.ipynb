{
  "nbformat": 4,
  "nbformat_minor": 0,
  "metadata": {
    "colab": {
      "name": "File Handling.ipynb",
      "provenance": [],
      "collapsed_sections": [],
      "authorship_tag": "ABX9TyNcqX16SFCI3rAmtksuFtKp",
      "include_colab_link": true
    },
    "kernelspec": {
      "name": "python3",
      "display_name": "Python 3"
    },
    "language_info": {
      "name": "python"
    }
  },
  "cells": [
    {
      "cell_type": "markdown",
      "metadata": {
        "id": "view-in-github",
        "colab_type": "text"
      },
      "source": [
        "<a href=\"https://colab.research.google.com/github/Yashthon/File-Handling-using-Python/blob/main/File_Handling.ipynb\" target=\"_parent\"><img src=\"https://colab.research.google.com/assets/colab-badge.svg\" alt=\"Open In Colab\"/></a>"
      ]
    },
    {
      "cell_type": "markdown",
      "source": [
        "1. Write a function in python to read the content from a text file line by line and\n",
        "display the same on screen."
      ],
      "metadata": {
        "id": "cDxolTaYr1E8"
      }
    },
    {
      "cell_type": "code",
      "execution_count": 61,
      "metadata": {
        "colab": {
          "base_uri": "https://localhost:8080/",
          "height": 0
        },
        "id": "Hzxxue_greDN",
        "outputId": "a695a244-53df-4bdc-cdf2-941f99b51de6"
      },
      "outputs": [
        {
          "output_type": "stream",
          "name": "stdout",
          "text": [
            "Lorem Ipsum is simply dummy text of the printing and typesetting industry. Lorem Ipsum has been the industry's standard dummy text ever since the 1500s, when an unknown printer took a galley of type and scrambled it to make a type specimen book. \n",
            "It has survived not only five centuries, but also the leap into electronic typesetting, remaining essentially unchanged. \n",
            "It was popularised in the 1960s with the release of Letraset sheets containing Lorem Ipsum passages, and more recently with desktop publishing software like Aldus PageMaker including versions of Lorem Ipsum.\n"
          ]
        }
      ],
      "source": [
        "def read_file():\n",
        "    file = open(\"yash.txt\",\"r\")\n",
        "    for line in file:\n",
        "      if '.' in line:\n",
        "        print(end=\"\")\n",
        "        print(line,end=\"\")\n",
        "    file.close()\n",
        "\n",
        "read_file()"
      ]
    },
    {
      "cell_type": "markdown",
      "source": [
        "2. Write a function in python to count the number of lines from a text file which\n",
        "is not starting with an alphabet &quot;T&quot;."
      ],
      "metadata": {
        "id": "FEvb0F-IvkP8"
      }
    },
    {
      "cell_type": "code",
      "source": [
        "def count_lines():\n",
        "  file = open(\"yash.txt\",\"r\")\n",
        "  lines = file.readlines()\n",
        "  c = 0\n",
        "  for i in lines:\n",
        "    if i[0] not in \" 'T' %or% 't' \":\n",
        "      c = c + 1\n",
        "  print(\"Total lines are \",c)\n",
        "  file.close()\n",
        "\n",
        "count_lines()"
      ],
      "metadata": {
        "colab": {
          "base_uri": "https://localhost:8080/",
          "height": 0
        },
        "id": "K-OnDRwIuDyz",
        "outputId": "4376f405-c76b-4375-93ff-8e42c486ac39"
      },
      "execution_count": 29,
      "outputs": [
        {
          "output_type": "stream",
          "name": "stdout",
          "text": [
            "Total lines are  3\n"
          ]
        }
      ]
    },
    {
      "cell_type": "markdown",
      "source": [
        "3. Write a function in Python to count and display the total number of words in\n",
        "a text file."
      ],
      "metadata": {
        "id": "AvBRIN5u1dhc"
      }
    },
    {
      "cell_type": "code",
      "source": [
        "def count_words():\n",
        "  file = open(\"yash.txt\",\"r\")\n",
        "  w = file.read()\n",
        "  words = w.split()\n",
        "  print(\"Number of words in the file are \",len(words))\n",
        "  file.close()\n",
        "count_words()"
      ],
      "metadata": {
        "colab": {
          "base_uri": "https://localhost:8080/",
          "height": 0
        },
        "id": "Lrivam3g0M1T",
        "outputId": "64f8fa77-cc1c-4fae-a4d2-3963a3a60ca0"
      },
      "execution_count": 32,
      "outputs": [
        {
          "output_type": "stream",
          "name": "stdout",
          "text": [
            "Number of words in the file are  97\n"
          ]
        }
      ]
    },
    {
      "cell_type": "markdown",
      "source": [
        "4. Write a function in Python to read lines from a text file. Your function should\n",
        "find and display the occurrence of the word &quot;the&quot;."
      ],
      "metadata": {
        "id": "6C1DUMPQ8N-T"
      }
    },
    {
      "cell_type": "code",
      "source": [
        "def count_lines():\n",
        "  file = open(\"yash.txt\",\"r\")\n",
        "  c = 0\n",
        "  w = file.read()\n",
        "  words = w.split()\n",
        "  for word in words:\n",
        "    if word == \"The\" or word == \"the\":\n",
        "      c = c + 1\n",
        "  print(\" Number of 'the' are \",c)\n",
        "  file.close()\n",
        "\n",
        "count_lines()"
      ],
      "metadata": {
        "colab": {
          "base_uri": "https://localhost:8080/",
          "height": 0
        },
        "id": "GOi_YySY9nte",
        "outputId": "23e44f01-200f-45fe-c525-48698c7a12a5"
      },
      "execution_count": 43,
      "outputs": [
        {
          "output_type": "stream",
          "name": "stdout",
          "text": [
            " Number of 'the' are  7\n"
          ]
        }
      ]
    },
    {
      "cell_type": "markdown",
      "source": [
        "5. Write a function in python to read lines from a text file and display those\n",
        "words, which are less than 4 characters."
      ],
      "metadata": {
        "id": "heM9xGWrBfBB"
      }
    },
    {
      "cell_type": "code",
      "source": [
        "def cnt_less():\n",
        "  c = 0\n",
        "  file = open(\"yash.txt\",\"r\")\n",
        "  line = file.read()\n",
        "  w = line.split()\n",
        "  print(\"Words with length less than 4 are:\")\n",
        "  for i in w:\n",
        "    if len(i)<4:\n",
        "      print(i)\n",
        "  file.close()\n",
        "cnt_less()  "
      ],
      "metadata": {
        "colab": {
          "base_uri": "https://localhost:8080/",
          "height": 0
        },
        "id": "ACA4KTnIAIXY",
        "outputId": "6dd4e315-d113-4e01-bd3d-d280057e56c8"
      },
      "execution_count": 49,
      "outputs": [
        {
          "output_type": "stream",
          "name": "stdout",
          "text": [
            "Words with length less than 4 are:\n",
            "is\n",
            "of\n",
            "the\n",
            "and\n",
            "has\n",
            "the\n",
            "the\n",
            "an\n",
            "a\n",
            "of\n",
            "and\n",
            "it\n",
            "to\n",
            "a\n",
            "It\n",
            "has\n",
            "not\n",
            "but\n",
            "the\n",
            "It\n",
            "was\n",
            "in\n",
            "the\n",
            "the\n",
            "of\n",
            "and\n",
            "of\n",
            "The\n"
          ]
        }
      ]
    },
    {
      "cell_type": "markdown",
      "source": [
        "6. Write a function in Python to count the words &quot;this&quot; and &quot;these&quot; present in a\n",
        "text file."
      ],
      "metadata": {
        "id": "vhHrzVvfDbh_"
      }
    },
    {
      "cell_type": "code",
      "source": [
        "def count_words():\n",
        "  file = open(\"yash.txt\",\"r\")\n",
        "  count = 0\n",
        "  data = file.read()\n",
        "  words = data.split()\n",
        "  for word in words:\n",
        "    if word == 'this' or word =='these':\n",
        "      count+=1\n",
        "  print(\"No. occurence of 'these' and 'this' in the text file are :\",count)\n",
        "  file.close()\n",
        "\n",
        "count_words()"
      ],
      "metadata": {
        "colab": {
          "base_uri": "https://localhost:8080/",
          "height": 0
        },
        "id": "6dJ94o1PC8ch",
        "outputId": "498dde03-faaa-4ac3-898e-5747f6fd01c1"
      },
      "execution_count": 59,
      "outputs": [
        {
          "output_type": "stream",
          "name": "stdout",
          "text": [
            "No. occurence of 'these' and 'this' in the text file are : 2\n"
          ]
        }
      ]
    },
    {
      "cell_type": "markdown",
      "source": [
        "7. Write a function in Python to count words in a text file those are ending with\n",
        "alphabet &quot;e&quot;."
      ],
      "metadata": {
        "id": "aWzm36-JEPzz"
      }
    },
    {
      "cell_type": "code",
      "source": [
        "def count_e():\n",
        "    file = open(\"yash.txt\",\"r\")\n",
        "    count = 0\n",
        "    data = file.read()\n",
        "    words = data.split()\n",
        "    for word in words:\n",
        "        if word[-1] == 'e':\n",
        "            count+=1\n",
        "    print(\"Alphabets ending with 'e' are: \", count)\n",
        "    file.close()\n",
        "\n",
        "count_e()"
      ],
      "metadata": {
        "colab": {
          "base_uri": "https://localhost:8080/",
          "height": 0
        },
        "id": "jBl5-3kcD0XT",
        "outputId": "bd695b5f-5b46-4c36-af76-59599f932d2e"
      },
      "execution_count": 58,
      "outputs": [
        {
          "output_type": "stream",
          "name": "stdout",
          "text": [
            "Alphabets ending with 'e' are:  19\n"
          ]
        }
      ]
    },
    {
      "cell_type": "markdown",
      "source": [
        "8. Write a function in Python to count uppercase character in a text file."
      ],
      "metadata": {
        "id": "oz-1B9UbElFe"
      }
    },
    {
      "cell_type": "code",
      "source": [
        "def count_char():\n",
        "    file = open(\"yash.txt\",\"r\")\n",
        "    data = file.read()\n",
        "    count = 0\n",
        "    for letter in data:\n",
        "        if letter.isupper():\n",
        "            count+=1\n",
        "    print(\"Upper case characters in the text file are:\",count)\n",
        "    file.close()\n",
        "\n",
        "count_char()"
      ],
      "metadata": {
        "colab": {
          "base_uri": "https://localhost:8080/",
          "height": 0
        },
        "id": "HRknsZNhEePe",
        "outputId": "2f63bde1-a6a6-47c1-8ee5-d66909378e77"
      },
      "execution_count": 56,
      "outputs": [
        {
          "output_type": "stream",
          "name": "stdout",
          "text": [
            "Upper case characters in the text file are: 18\n"
          ]
        }
      ]
    }
  ]
}